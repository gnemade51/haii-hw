{
  "cells": [
    {
      "cell_type": "markdown",
      "metadata": {
        "id": "a_qh5bi4Qz2f"
      },
      "source": [
        "# Home Loan Prediction\n",
        "This dataset `full_home_loans.csv` is about home loan applications in Washington state, USA, where each row of the dataset is an individual loan application. Your goal in this assignment is to build a machine learning model that can accurately predict whether a given loan application was accepted or rejected.\n",
        "\n",
        "\n",
        "## Part 1: Data Exploration\n",
        "The first few exercises will get you used to looking at the data using `pandas`. Pandas is a widely used library in python for manipulating data. Why? Datasets can consume a _lot_ of space in your computer's memory and traditional python data structures like lists or dictionaries will become painfully slow as we add thousands of rows of data. We use a specialized dataset library `pandas` which has a specialized data structure called a `dataframe` designed to be ultra fast & efficient. Documentation is here: https://pandas.pydata.org/pandas-docs/stable/"
      ]
    },
    {
      "cell_type": "code",
      "execution_count": null,
      "metadata": {
        "id": "NkFhQmaoQz2g"
      },
      "outputs": [],
      "source": [
        "import pandas as pd # import pandas library\n",
        "df = pd.read_csv('data/home_loans.csv', low_memory=False) # read the csv file into a pandas dataframe object"
      ]
    },
    {
      "cell_type": "markdown",
      "metadata": {
        "id": "pndaDYijQz2g"
      },
      "source": [
        "To understand what kind of data was collected, `pandas` has some handy commands:\n",
        "\n",
        "- `df.head()` will show us the first 5 rows of our dataset. You can also specify the first N rows, like `df.head(18)` will show us the first 18 rows.\n",
        "- `df.sample(10)` will show us 10 randomly sampled rows of our dataset\n",
        "- `df.shape` will tell us how many rows and how many columns are in the dataset\n",
        "- `df.columns` will list the names of all columns in the dataset\n",
        "- `df.describe()` will give you summary statistics about all numerical columns in the dataset\n",
        "\n",
        "### Question 1.A:  How many rows are in this dataset? How many columns?"
      ]
    },
    {
      "cell_type": "markdown",
      "metadata": {
        "id": "Vcb7LjoKQz2h"
      },
      "source": [
        "_Double click to write your answer question here. Show your work in code below if applicable._"
      ]
    },
    {
      "cell_type": "code",
      "execution_count": null,
      "metadata": {
        "id": "zZaL7y0FQz2h"
      },
      "outputs": [],
      "source": []
    },
    {
      "cell_type": "markdown",
      "metadata": {
        "id": "koOIrwn7Qz2h"
      },
      "source": [
        "### Question 1.B: One of the columns in the dataset is the outcome value for each application, the value we will try to predict. Which column is that?"
      ]
    },
    {
      "cell_type": "markdown",
      "metadata": {
        "id": "WdKcdPlfQz2h"
      },
      "source": [
        "_Double click to write your answer question here. Show your work in code below if applicable._"
      ]
    },
    {
      "cell_type": "code",
      "execution_count": null,
      "metadata": {
        "id": "KW9ZpDvvQz2h"
      },
      "outputs": [],
      "source": []
    },
    {
      "cell_type": "markdown",
      "metadata": {
        "id": "yiO7FcUgQz2h"
      },
      "source": [
        "### Question 1.C: What reasons were given in this dataset for denying a loan application?\n",
        "Hint: There are 3 columns in the dataset that list why a loan was denied. Try looking up the pandas command to list the unique values in a column."
      ]
    },
    {
      "cell_type": "markdown",
      "metadata": {
        "id": "TIxCab01Qz2h"
      },
      "source": [
        "_Double click to write your answer question here. Show your work in code below if applicable._"
      ]
    },
    {
      "cell_type": "code",
      "execution_count": null,
      "metadata": {
        "id": "DXxOmVoCQz2h"
      },
      "outputs": [],
      "source": []
    },
    {
      "cell_type": "markdown",
      "metadata": {
        "id": "JheFvf1TQz2h"
      },
      "source": [
        "### Question 1.D: Given the denial reasons and the columns in this dataset, think about what information you _don't_ have about each application. Rank your top 3 _missing_ pieces of information about each application that could help you better predict the application's loan outcome."
      ]
    },
    {
      "cell_type": "markdown",
      "metadata": {
        "id": "eBr7dvEOQz2h"
      },
      "source": [
        "_Double click to write your answer question here. Show your work in code below if applicable._\n",
        "\n",
        "#1.  \n",
        "#2.  \n",
        "#3."
      ]
    },
    {
      "cell_type": "code",
      "execution_count": null,
      "metadata": {
        "id": "IuIyZGvdQz2h"
      },
      "outputs": [],
      "source": []
    },
    {
      "cell_type": "markdown",
      "metadata": {
        "id": "krlN5i86Qz2h"
      },
      "source": [
        "## Part 2: Preparing Data to Input to a Model\n",
        "Here we'll start using `scikit-learn` which provides simple library calls for most things we'd like to do in a simple machine learning pipeline. If you haven't used `scikit-learn` before this tutorial may be useful to give you a sense of what the library can do: https://scikit-learn.org/stable/tutorial/basic/tutorial.html\n",
        "\n",
        "Many machine learning models can only understand data that is represented numerically, but lots of the columns in our dataset like \"town_name\" are text _categorical_ data. Meanwhile, many models do better when continuous numerical data is within small, consistent ranges, such as all data being between -1, 0 and 1, which is definitely not the case with our thousands of dollars loan units.\n",
        "\n",
        "So first, we will separate our samples (called _X_) into features we'd like to include in our model that are categorical or continuous so that we can preprocess each appropriately separately."
      ]
    },
    {
      "cell_type": "code",
      "execution_count": null,
      "metadata": {
        "id": "7VS2z9HGQz2h"
      },
      "outputs": [],
      "source": [
        "import sklearn # import scikit-learn\n",
        "from sklearn import preprocessing # import preprocessing utilites\n",
        "\n",
        "features_cat = ['loan_purpose_name', 'applicant_sex_name']\n",
        "features_num = ['loan_amount_000s', 'applicant_income_000s']\n",
        "\n",
        "X_cat = df[features_cat]\n",
        "X_num = df[features_num]"
      ]
    },
    {
      "cell_type": "markdown",
      "metadata": {
        "id": "PGbeFEmYQz2h"
      },
      "source": [
        "### Part 2.A One Hot Encode Categorical Variables\n",
        "Run the following code to one hot encode the categorical features:"
      ]
    },
    {
      "cell_type": "code",
      "execution_count": null,
      "metadata": {
        "id": "ZOkQENYqQz2h"
      },
      "outputs": [],
      "source": [
        "enc = preprocessing.OneHotEncoder()\n",
        "enc.fit(X_cat) # fit the encoder to categories in our data\n",
        "one_hot = enc.transform(X_cat) # transform data into one hot encoded sparse array format"
      ]
    },
    {
      "cell_type": "code",
      "execution_count": null,
      "metadata": {
        "id": "d1FrO8GjQz2h"
      },
      "outputs": [],
      "source": [
        "# Finally, put the newly encoded sparse array back into a pandas dataframe so that we can use it\n",
        "X_cat_proc = pd.DataFrame(one_hot.toarray(), columns=enc.get_feature_names_out())\n",
        "X_cat_proc.head()"
      ]
    },
    {
      "cell_type": "markdown",
      "metadata": {
        "id": "QTvxtuQ_Qz2i"
      },
      "source": [
        "### Question 2.A: In your own words, how is one hot coding tranforming the categorical data? What does the term \"one-hot\" refer to?"
      ]
    },
    {
      "cell_type": "markdown",
      "metadata": {
        "id": "MpJayIsTQz2i"
      },
      "source": [
        "_Double click to write your answer question here._"
      ]
    },
    {
      "cell_type": "markdown",
      "metadata": {
        "id": "yeARsYBkQz2i"
      },
      "source": [
        "### Part 2.B Scaling down continuous numerical data\n",
        "Run the following code to normalize any continous numberical features, such as loan dollar amount, between -1 and 0. This process will ensure that the average of that feature, such as the average amount that a person asks for in loan amount, is scaled to 0. Values less than the average will be negative numbers, and values larger than the average will be positive numbers."
      ]
    },
    {
      "cell_type": "code",
      "execution_count": null,
      "metadata": {
        "id": "JIF9zbLZQz2i"
      },
      "outputs": [],
      "source": [
        "scaled = preprocessing.scale(X_num)\n",
        "X_num_proc = pd.DataFrame(scaled, columns=features_num)\n",
        "X_num_proc.head()"
      ]
    },
    {
      "cell_type": "markdown",
      "metadata": {
        "id": "uwboR5W3Qz2i"
      },
      "source": [
        "### Part 2.C Merge our feature sets into one sample dataset _X_ and fix NaN values\n",
        "Run the code below to combine the numerical and categorical feature sets."
      ]
    },
    {
      "cell_type": "code",
      "execution_count": null,
      "metadata": {
        "id": "kzwJC-coQz2i"
      },
      "outputs": [],
      "source": [
        "X = pd.concat([X_num_proc, X_cat_proc], axis=1, sort=False)\n",
        "X.head()"
      ]
    },
    {
      "cell_type": "markdown",
      "metadata": {
        "id": "EY5I7Vk8Qz2i"
      },
      "source": [
        "### Question 2.C Describe what the code below does."
      ]
    },
    {
      "cell_type": "markdown",
      "metadata": {
        "id": "TsryRcLAQz2i"
      },
      "source": [
        "_Double click to write your answer question here._"
      ]
    },
    {
      "cell_type": "code",
      "execution_count": null,
      "metadata": {
        "id": "vwPNtKhAQz2i"
      },
      "outputs": [],
      "source": [
        "X = X.fillna(0)"
      ]
    },
    {
      "cell_type": "markdown",
      "metadata": {
        "id": "geU9341JQz2i"
      },
      "source": [
        "### Part 2.D Create our target array _y_ that our model will try to predict"
      ]
    },
    {
      "cell_type": "code",
      "execution_count": null,
      "metadata": {
        "id": "sKi9Op4oQz2i"
      },
      "outputs": [],
      "source": [
        "y = df['loan_approved'] # target"
      ]
    },
    {
      "cell_type": "markdown",
      "metadata": {
        "id": "j7jh_1PeQz2i"
      },
      "source": [
        "### Part 2.E Split our data into training, test, and validation sets\n",
        "Run the code below to split the data. Both validation and test sets will be used for testing our model, but use the validation set while you are developing and improving your model, and leave the test for late stage evaluation."
      ]
    },
    {
      "cell_type": "code",
      "execution_count": null,
      "metadata": {
        "id": "kgSPDmOkQz2i"
      },
      "outputs": [],
      "source": [
        "from sklearn.model_selection import train_test_split\n",
        "X_train, X_TEMP, y_train, y_TEMP = train_test_split(X, y, test_size=0.30) # split out into training 70% of our data\n",
        "X_validation, X_test, y_validation, y_test = train_test_split(X_TEMP, y_TEMP, test_size=0.50) # split out into validation 15% of our data and test 15% of our data\n",
        "print(X_train.shape, X_validation.shape, X_test.shape) # print data shape to check the sizing is correct"
      ]
    },
    {
      "cell_type": "markdown",
      "metadata": {
        "id": "tqVlbimbQz2i"
      },
      "source": [
        "### Question 2.E:  Describe the differences between train, test, and validation sets?"
      ]
    },
    {
      "cell_type": "markdown",
      "metadata": {
        "id": "V0-D-KQnQz2j"
      },
      "source": [
        "_Double click to write your answer question here._"
      ]
    },
    {
      "cell_type": "markdown",
      "metadata": {
        "id": "0jw1glKhQz2j"
      },
      "source": [
        "## Part 3. Developing Models\n",
        "Scikit-learn has a substantial library of different models we can use for classification. Below are implemented two of the most simple classification models, Logistic Regression and Dummy Classifier."
      ]
    },
    {
      "cell_type": "code",
      "execution_count": null,
      "metadata": {
        "id": "tQ_NjvagQz2j"
      },
      "outputs": [],
      "source": [
        "from sklearn.metrics import confusion_matrix\n",
        "from sklearn.metrics import classification_report\n",
        "\n",
        "# helper method to print basic model metrics\n",
        "def metrics(y_true, y_pred):\n",
        "    print('Confusion matrix:\\n', confusion_matrix(y_true, y_pred))\n",
        "    print('\\nReport:\\n', classification_report(y_true, y_pred))"
      ]
    },
    {
      "cell_type": "code",
      "execution_count": null,
      "metadata": {
        "id": "zNMUzygtQz2j"
      },
      "outputs": [],
      "source": [
        "from sklearn.linear_model import LogisticRegression\n",
        "\n",
        "model = LogisticRegression(solver='lbfgs').fit(X_train, y_train) # first fit (train) the model\n",
        "y_pred = model.predict(X_validation) # next get the model's predictions for a sample in the validation set\n",
        "metrics(y_validation, y_pred) # finally evaluate performance"
      ]
    },
    {
      "cell_type": "markdown",
      "metadata": {
        "id": "MLYSwdkKQz2j"
      },
      "source": [
        "The Dummy Classifier is a 'dummy' because it is going to use zero machine learning, and simply predict \"approve this loan\" (value 1) for every loan it sees."
      ]
    },
    {
      "cell_type": "code",
      "execution_count": null,
      "metadata": {
        "id": "R5Zaa05UQz2j"
      },
      "outputs": [],
      "source": [
        "from sklearn.dummy import DummyClassifier\n",
        "\n",
        "approve_everyone = DummyClassifier(strategy='constant', constant = 1).fit(X_train, y_train) # first fit (train) the model\n",
        "y_pred_dummy = approve_everyone.predict(X_validation) # next get the model's predictions for a sample in the validation set\n",
        "metrics(y_validation, y_pred_dummy) # finally evaluate performance"
      ]
    },
    {
      "cell_type": "markdown",
      "metadata": {
        "id": "moLnpWDFQz2l"
      },
      "source": [
        "### Question 3.A: Considering only the data itself, why do Logistic Regression and the Dummy Classifier perform the same? What is the semantic meaning for why Dummy Classifier has such high accuracy?"
      ]
    },
    {
      "cell_type": "markdown",
      "metadata": {
        "id": "0rFoW_rQQz2m"
      },
      "source": [
        "_Double click to write your answer question here._"
      ]
    },
    {
      "cell_type": "markdown",
      "metadata": {
        "id": "E_tM3-X1Qz2m"
      },
      "source": [
        "## Part 4: Your turn!\n",
        "\n",
        "### Task 4.A: Create a new balanced dataset where exactly half of the samples are rejected loan applications and half are accepted loan application.\n",
        "_show your work below_"
      ]
    },
    {
      "cell_type": "code",
      "execution_count": null,
      "metadata": {
        "id": "dI3W6biUQz2m"
      },
      "outputs": [],
      "source": []
    },
    {
      "cell_type": "markdown",
      "metadata": {
        "id": "fc9UmB9AQz2m"
      },
      "source": [
        "### Task 4.B: Below, retry training and evaluating a Logistic regression model on the updated data.\n",
        "_show your work below_"
      ]
    },
    {
      "cell_type": "code",
      "execution_count": null,
      "metadata": {
        "id": "v1qoRgPKQz2m"
      },
      "outputs": [],
      "source": []
    },
    {
      "cell_type": "markdown",
      "metadata": {
        "id": "y1HG5CTmQz2m"
      },
      "source": [
        "### Task 4.C: Use your own imagination and experimentation to improve predictive performance for this task, modifying the model choices, feature choices, and data processing however you wish.\n",
        "_Important! Your ability to improve the model above the baseline after Task 4.B will count for 10% of this assignment grade, with 5% of that given for modest improvements to performance. Thus while we encourage you to experiment, do not sink excessive time into this task. We will test the performance on our own holdout dataset._\n",
        "\n",
        "_show your work below_"
      ]
    },
    {
      "cell_type": "code",
      "execution_count": null,
      "metadata": {
        "id": "2RDdsWi8Qz2m"
      },
      "outputs": [],
      "source": []
    },
    {
      "cell_type": "markdown",
      "metadata": {
        "id": "5q-lLhPMQz2m"
      },
      "source": [
        "# Documenting collaborations\n",
        "## Briefly list and describe the sources you received help from, and how they helped you\n",
        "### These may include friends, peers, TAs, generative AI tools, etc."
      ]
    },
    {
      "cell_type": "markdown",
      "metadata": {
        "id": "qLX5sEqtQz2m"
      },
      "source": [
        "Click to answer here"
      ]
    },
    {
      "cell_type": "markdown",
      "metadata": {
        "id": "SumuZ-bdQz2m"
      },
      "source": [
        "# Learning assessment\n",
        "\n",
        "### Reflect in a few words the amount of new content learned from completing the assignment.\n",
        "### If most of the material was not new to you, where did you see it before?"
      ]
    },
    {
      "cell_type": "markdown",
      "metadata": {
        "id": "OXuF2ua3Qz2m"
      },
      "source": [
        "Click to answer here"
      ]
    },
    {
      "cell_type": "markdown",
      "metadata": {
        "id": "TlVahmGNQz2m"
      },
      "source": []
    }
  ],
  "metadata": {
    "kernelspec": {
      "display_name": "Python 3",
      "language": "python",
      "name": "python3"
    },
    "language_info": {
      "codemirror_mode": {
        "name": "ipython",
        "version": 3
      },
      "file_extension": ".py",
      "mimetype": "text/x-python",
      "name": "python",
      "nbconvert_exporter": "python",
      "pygments_lexer": "ipython3",
      "version": "3.9.6"
    },
    "toc": {
      "base_numbering": 1,
      "nav_menu": {},
      "number_sections": false,
      "sideBar": false,
      "skip_h1_title": false,
      "title_cell": "Table of Contents",
      "title_sidebar": "Contents",
      "toc_cell": false,
      "toc_position": {},
      "toc_section_display": false,
      "toc_window_display": false
    },
    "colab": {
      "provenance": []
    }
  },
  "nbformat": 4,
  "nbformat_minor": 0
}